{
 "cells": [
  {
   "cell_type": "code",
   "execution_count": 82,
   "metadata": {},
   "outputs": [],
   "source": [
    "import requests\n",
    "import pandas as pd\n",
    "from dotenv import load_dotenv\n",
    "import os"
   ]
  },
  {
   "cell_type": "code",
   "execution_count": 93,
   "metadata": {},
   "outputs": [
    {
     "name": "stdout",
     "output_type": "stream",
     "text": [
      "AAAAAAAAAAAAAAAAAAAAAKfIVAEAAAAAlqx5hk3BXvnfaQg1BTfrN2f5oO4%3DEFya4NBhHbz8sxjc1U3Xm6IS4TsslJkv32dqHaw7CpzHbS3C43\n"
     ]
    }
   ],
   "source": [
    "### get keys from twitter/ stock market websites\n",
    "load_dotenv()\n",
    "BEARER_TOKEN = os.getenv('BEARER_TOKEN')\n",
    "\"\"\"\n",
    "params = {\n",
    "    'q': 'tesla',\n",
    "    'tweet_mode': 'extended',\n",
    "    'lang': 'en',\n",
    "    'count': '100'\n",
    "}\n",
    "\n",
    "response = requests.get(\n",
    "    'https://api.twitter.com/1.1/search/tweets.json',\n",
    "    params = params,\n",
    "    headers={\n",
    "        'authorization': 'Bearer '+BEARER_TOKEN\n",
    "})\n",
    "tweet = response.json()\n",
    "\"\"\"\n",
    "\n",
    "#print(BEARER_TOKEN)"
   ]
  },
  {
   "cell_type": "code",
   "execution_count": 56,
   "metadata": {},
   "outputs": [],
   "source": [
    "df = pd.DataFrame()\n",
    "pd.set_option('max_colwidth', None)\n",
    "pd.set_option('display.max_columns', None)\n",
    "l = []\n",
    "for data in tweet['statuses']:\n",
    "    d = {\n",
    "        'created_at':  data['created_at'],\n",
    "        'id': data['id'],\n",
    "        'full_text': data['full_text']\n",
    "    }\n",
    "    l.append(d)\n",
    "tweet_df = df.append(l, True)\n"
   ]
  },
  {
   "cell_type": "code",
   "execution_count": 57,
   "metadata": {},
   "outputs": [
    {
     "data": {
      "text/html": [
       "<div>\n",
       "<style scoped>\n",
       "    .dataframe tbody tr th:only-of-type {\n",
       "        vertical-align: middle;\n",
       "    }\n",
       "\n",
       "    .dataframe tbody tr th {\n",
       "        vertical-align: top;\n",
       "    }\n",
       "\n",
       "    .dataframe thead th {\n",
       "        text-align: right;\n",
       "    }\n",
       "</style>\n",
       "<table border=\"1\" class=\"dataframe\">\n",
       "  <thead>\n",
       "    <tr style=\"text-align: right;\">\n",
       "      <th></th>\n",
       "      <th>created_at</th>\n",
       "      <th>id</th>\n",
       "      <th>full_text</th>\n",
       "    </tr>\n",
       "  </thead>\n",
       "  <tbody>\n",
       "    <tr>\n",
       "      <th>0</th>\n",
       "      <td>Thu Oct 28 04:37:20 +0000 2021</td>\n",
       "      <td>1453581625543979017</td>\n",
       "      <td>@InvestorJag @OfficialABQ @ro_rorz @MarketRebels @live_munro \"Tesla's recent warranty performance has been strikingly good.\"\\nhttps://t.co/Ai1PXvMGzt\\n\"Tesla is outperforming\" https://t.co/sepTVaKCAe</td>\n",
       "    </tr>\n",
       "    <tr>\n",
       "      <th>1</th>\n",
       "      <td>Thu Oct 28 04:37:20 +0000 2021</td>\n",
       "      <td>1453581625036476419</td>\n",
       "      <td>@Chris65600455 @elonmusk @BillyM2k Breaking news! It is a cool annual giveaway !\\n1oooooooo DOGE 5ooo BTC  will be distributed among everyone who takes part in this event.\\n #doge  #dogecoin  #Ethereum  #Bitcoin  #ETH  #BTC\\nJoin here➜.tesla-giveawayx10.c om</td>\n",
       "    </tr>\n",
       "    <tr>\n",
       "      <th>2</th>\n",
       "      <td>Thu Oct 28 04:37:19 +0000 2021</td>\n",
       "      <td>1453581622331117574</td>\n",
       "      <td>RT @marshgre: My three year old car is sitting in my driveway in Nova Scotia getting a software upgrade beamed to it from California via ou…</td>\n",
       "    </tr>\n",
       "    <tr>\n",
       "      <th>3</th>\n",
       "      <td>Thu Oct 28 04:37:18 +0000 2021</td>\n",
       "      <td>1453581617801449475</td>\n",
       "      <td>@TeslaAIBot @Tesla I will buy it</td>\n",
       "    </tr>\n",
       "    <tr>\n",
       "      <th>4</th>\n",
       "      <td>Thu Oct 28 04:37:17 +0000 2021</td>\n",
       "      <td>1453581614835855360</td>\n",
       "      <td>RT @RBReich: So let me get this straight: Elon Musk increased his wealth by $36.2 billion in one day this week, but Tesla can’t afford to l…</td>\n",
       "    </tr>\n",
       "  </tbody>\n",
       "</table>\n",
       "</div>"
      ],
      "text/plain": [
       "                       created_at                   id  \\\n",
       "0  Thu Oct 28 04:37:20 +0000 2021  1453581625543979017   \n",
       "1  Thu Oct 28 04:37:20 +0000 2021  1453581625036476419   \n",
       "2  Thu Oct 28 04:37:19 +0000 2021  1453581622331117574   \n",
       "3  Thu Oct 28 04:37:18 +0000 2021  1453581617801449475   \n",
       "4  Thu Oct 28 04:37:17 +0000 2021  1453581614835855360   \n",
       "\n",
       "                                                                                                                                                                                                                                                            full_text  \n",
       "0                                                             @InvestorJag @OfficialABQ @ro_rorz @MarketRebels @live_munro \"Tesla's recent warranty performance has been strikingly good.\"\\nhttps://t.co/Ai1PXvMGzt\\n\"Tesla is outperforming\" https://t.co/sepTVaKCAe  \n",
       "1  @Chris65600455 @elonmusk @BillyM2k Breaking news! It is a cool annual giveaway !\\n1oooooooo DOGE 5ooo BTC  will be distributed among everyone who takes part in this event.\\n #doge  #dogecoin  #Ethereum  #Bitcoin  #ETH  #BTC\\nJoin here➜.tesla-giveawayx10.c om  \n",
       "2                                                                                                                        RT @marshgre: My three year old car is sitting in my driveway in Nova Scotia getting a software upgrade beamed to it from California via ou…  \n",
       "3                                                                                                                                                                                                                                    @TeslaAIBot @Tesla I will buy it  \n",
       "4                                                                                                                        RT @RBReich: So let me get this straight: Elon Musk increased his wealth by $36.2 billion in one day this week, but Tesla can’t afford to l…  "
      ]
     },
     "execution_count": 57,
     "metadata": {},
     "output_type": "execute_result"
    }
   ],
   "source": [
    "tweet_df.head()"
   ]
  }
 ],
 "metadata": {
  "interpreter": {
   "hash": "513dc2e41d739bb2c947903f3c0bbf636d03aa53ab50e61c694a27481c81805e"
  },
  "kernelspec": {
   "display_name": "Python 3.8.5 64-bit ('base': conda)",
   "name": "python3"
  },
  "language_info": {
   "codemirror_mode": {
    "name": "ipython",
    "version": 3
   },
   "file_extension": ".py",
   "mimetype": "text/x-python",
   "name": "python",
   "nbconvert_exporter": "python",
   "pygments_lexer": "ipython3",
   "version": "3.8.5"
  },
  "orig_nbformat": 4
 },
 "nbformat": 4,
 "nbformat_minor": 2
}
